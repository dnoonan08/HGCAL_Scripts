{
 "cells": [
  {
   "cell_type": "code",
   "execution_count": null,
   "metadata": {},
   "outputs": [],
   "source": [
    "import uproot\n",
    "import numpy as np\n",
    "import pandas as pd\n",
    "\n",
    "import matplotlib.pyplot as plt\n",
    "from scipy import stats"
   ]
  },
  {
   "cell_type": "code",
   "execution_count": null,
   "metadata": {},
   "outputs": [],
   "source": []
  },
  {
   "cell_type": "code",
   "execution_count": null,
   "metadata": {},
   "outputs": [],
   "source": [
    "fName = \"root://cmseos.fnal.gov//store/user/dnoonan/HGCAL_Concentrator/IsolationStudies/v3/fastJetClustering_VBF_200PU_1of10.root\"\n",
    "\n",
    "_tree = uproot.open(fName,xrootdsource=dict(chunkbytes=1024**3, limitbytes=1024**3))[\"jetTree\"]\n",
    "\n",
    "df = _tree.pandas.df(\"jet*\")\n",
    "dfGen = _tree.pandas.df([\"genJetPt\",\"genJetEta\"])\n"
   ]
  },
  {
   "cell_type": "code",
   "execution_count": null,
   "metadata": {},
   "outputs": [],
   "source": [
    "# maxN = 0\n",
    "# for i in range(1,11):\n",
    "#     print(i,maxN)\n",
    "#     fName = \"root://cmseos.fnal.gov//store/user/dnoonan/HGCAL_Concentrator/IsolationStudies/v3/fastJetClustering_VBF_200PU_%iof10.root\"%i\n",
    "\n",
    "#     _tree = uproot.open(fName,xrootdsource=dict(chunkbytes=1024**3, limitbytes=1024**3))[\"jetTree\"]\n",
    "\n",
    "#     this_df = _tree.pandas.df(\"jet*\")\n",
    "#     this_dfGen = _tree.pandas.df([\"genJetPt\",\"genJetEta\"])\n",
    "\n",
    "#     this_df.reset_index(inplace=True)\n",
    "#     this_dfGen.reset_index(inplace=True)\n",
    "#     this_df.entry += maxN\n",
    "#     this_dfGen.entry += maxN\n",
    "#     this_df.set_index(['entry','subentry'],inplace=True)\n",
    "#     this_dfGen.set_index(['entry','subentry'],inplace=True)\n",
    "    \n",
    "#     if i==1:\n",
    "#         df = this_df.copy()        \n",
    "#         dfGen = this_dfGen.copy()\n",
    "#     else:\n",
    "#         df = pd.concat([df,this_df])\n",
    "#         dfGen = pd.concat([dfGen,this_dfGen])\n",
    "#     maxN = df.index.levels[0].max()+1\n"
   ]
  },
  {
   "cell_type": "code",
   "execution_count": null,
   "metadata": {},
   "outputs": [],
   "source": [
    "df['VBF'] = df.jetGenJetMatch>-1\n",
    "df['PU'] = (df.jetGenJetMatch==-1) & (df.jetMinGenJetDR>0.5)"
   ]
  },
  {
   "cell_type": "code",
   "execution_count": null,
   "metadata": {},
   "outputs": [],
   "source": [
    "import numba\n",
    "\n",
    "\n",
    "@numba.vectorize([numba.float64(numba.int64,numba.int64)])\n",
    "def getGenJetPt(entry, genIndex):\n",
    "    global dfGen\n",
    "    if genIndex==-1:\n",
    "        return -1.\n",
    "    else:\n",
    "        return dfGen.loc[entry,genIndex].genJetPt\n",
    "\n",
    "@numba.vectorize([numba.float64(numba.int64,numba.int64)])\n",
    "def getGenJetEta(entry, genIndex):\n",
    "    global dfGen\n",
    "    if genIndex==-1:\n",
    "        return -1.\n",
    "    else:\n",
    "        return dfGen.loc[entry,genIndex].genJetEta\n"
   ]
  },
  {
   "cell_type": "code",
   "execution_count": null,
   "metadata": {},
   "outputs": [],
   "source": [
    "df.reset_index(inplace=True)\n",
    "df['genJetPt'] = getGenJetPt(df.entry,df.jetGenJetMatch)\n",
    "df.set_index(['entry','subentry'],inplace=True)"
   ]
  },
  {
   "cell_type": "code",
   "execution_count": null,
   "metadata": {},
   "outputs": [],
   "source": []
  },
  {
   "cell_type": "code",
   "execution_count": null,
   "metadata": {},
   "outputs": [],
   "source": [
    "df['jetPt_PUcorr'] = df.jetPt - (df.jetPtR05 + df.jetPtR06)/1.25"
   ]
  },
  {
   "cell_type": "code",
   "execution_count": null,
   "metadata": {},
   "outputs": [],
   "source": [
    "sel = df.VBF & (abs(df.jetEta)>1.9) & (abs(df.jetEta)<2.6)\n",
    "\n",
    "x = df.genJetPt[sel]\n",
    "y = df.jetPt[sel]#-df.genJetPt[sel]\n",
    "\n",
    "yi = y[x>0]\n",
    "xi = x[x>0]\n",
    "\n",
    "slope, intercept, r_value, p_value, std_err = stats.linregress(xi,yi)\n",
    "\n",
    "print(slope,intercept)\n",
    "\n",
    "plt.plot(x,y,'o',markersize=1.5)\n",
    "plt.plot(x, slope*x+intercept,'k')\n",
    "\n",
    "plt.text(0,y.max()*.9,s=\"y= %.4f x  + %.4f\"%(slope,intercept))\n",
    "plt.xlabel(\"Gen Jet Pt\")\n",
    "plt.ylabel(\"Reco Jet Pt\")"
   ]
  },
  {
   "cell_type": "code",
   "execution_count": null,
   "metadata": {},
   "outputs": [],
   "source": []
  },
  {
   "cell_type": "code",
   "execution_count": null,
   "metadata": {},
   "outputs": [],
   "source": []
  },
  {
   "cell_type": "code",
   "execution_count": null,
   "metadata": {},
   "outputs": [],
   "source": [
    "#sns.regplot(x=df.genJetPt[df.VBF],y=df.jetPt[df.VBF],x_bins=np.arange(0,700,10))"
   ]
  }
 ],
 "metadata": {
  "kernelspec": {
   "display_name": "Python 3",
   "language": "python",
   "name": "python3"
  },
  "language_info": {
   "codemirror_mode": {
    "name": "ipython",
    "version": 3
   },
   "file_extension": ".py",
   "mimetype": "text/x-python",
   "name": "python",
   "nbconvert_exporter": "python",
   "pygments_lexer": "ipython3",
   "version": "3.6.5"
  }
 },
 "nbformat": 4,
 "nbformat_minor": 2
}
