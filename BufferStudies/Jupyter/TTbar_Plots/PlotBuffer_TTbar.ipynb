{
 "cells": [
  {
   "cell_type": "code",
   "execution_count": 1,
   "metadata": {},
   "outputs": [],
   "source": [
    "import pickle\n",
    "import numpy as np\n",
    "import matplotlib.pyplot as plt\n",
    "import awkward"
   ]
  },
  {
   "cell_type": "code",
   "execution_count": 2,
   "metadata": {},
   "outputs": [],
   "source": [
    "colorConvert = {12:'black',11:'black',10:'black',9:'black',8:'black',7:'black',6:'black',5:'g',4:'b',3:'purple',2:'pink',1:'red'}\n",
    "\n",
    "import matplotlib.patches as mpatches\n",
    "patch6 = mpatches.Patch(color='black', label='# eLink > 5')\n",
    "patch5 = mpatches.Patch(color='green', label='# eLink = 5')\n",
    "patch4 = mpatches.Patch(color='blue', label='# eLink = 4')\n",
    "patch3 = mpatches.Patch(color='purple', label='# eLink = 3')\n",
    "patch2 = mpatches.Patch(color='pink', label='# eLink = 2')\n",
    "patch1 = mpatches.Patch(color='red', label='# eLink = 1')\n",
    "\n"
   ]
  },
  {
   "cell_type": "code",
   "execution_count": 5,
   "metadata": {},
   "outputs": [],
   "source": [
    "threshold=1.5\n",
    "layer = 5\n",
    "\n",
    "nJobs = 20\n",
    "thrString = (\"%.1f\"%threshold).replace('.','p')\n",
    "\n",
    "fill = 0\n",
    "again = 0\n",
    "\n",
    "outputName = 'maxLatency_LinksAboveMin_TTbar_layer%i.pdf'%layer\n",
    "if fill>0:\n",
    "    outputName = outputName.replace('.pdf','_filled%i.pdf'%fill)\n",
    "    if again>0:\n",
    "        outputName = outputName.replace('.pdf','_againEvery%i.pdf'%again)\n",
    "\n",
    "        tcCount = []\n",
    "bitCount = []\n",
    "latencyTracker = []\n",
    "OverflowCount = []\n",
    "ResetCount = []\n",
    "\n",
    "for i in range(nJobs):\n",
    "    BufferOutput = \"/uscmst1b_scratch/lpc1/3DayLifetime/dnoonan/data/ECON-T_Buffer/Output_Buffer_TTbar200PU_thr%s_layer%i_job%i.pkl\"%(thrString,layer,i)\n",
    "    if fill>0:\n",
    "        BufferOutput = BufferOutput.replace('_job','_fillEvery%i_job'%fill)\n",
    "        if again>0:\n",
    "            BufferOutput = BufferOutput.replace('_job','_againEvery%i_job'%again)\n",
    "            \n",
    "            \n",
    "    with open(BufferOutput,'rb') as f:\n",
    "#         tcCount.append(pickle.load(f))\n",
    "#         bitCount.append(pickle.load(f))\n",
    "#         latencyTracker.append(pickle.load(f))\n",
    "#         OverflowCount.append(pickle.load(f))\n",
    "#         ResetCount.append(pickle.load(f))\n",
    "#         wafers = pickle.load(f)\n",
    "#         meanBits = pickle.load(f)\n",
    "        \n",
    "        tcCount = pickle.load(f)\n",
    "        bitCount = pickle.load(f)\n",
    "        latencyTracker.append(pickle.load(f))\n",
    "        OverflowCount = pickle.load(f)\n",
    "        ResetCount = pickle.load(f)\n",
    "        wafers = pickle.load(f)\n",
    "        meanOcc = pickle.load(f)\n",
    "        meanBits = pickle.load(f)\n",
    "    \n",
    "    \n",
    "keys = OverflowCount.keys()\n",
    "N = len(latencyTracker[0][1][0])\n",
    "\n",
    "keys = np.array(list(keys))"
   ]
  },
  {
   "cell_type": "code",
   "execution_count": 4,
   "metadata": {},
   "outputs": [
    {
     "ename": "NameError",
     "evalue": "name 'meanBits' is not defined",
     "output_type": "error",
     "traceback": [
      "\u001b[0;31m---------------------------------------------------------------------------\u001b[0m",
      "\u001b[0;31mNameError\u001b[0m                                 Traceback (most recent call last)",
      "\u001b[0;32m<ipython-input-4-3bb4e17bfbd2>\u001b[0m in \u001b[0;36m<module>\u001b[0;34m()\u001b[0m\n\u001b[1;32m      1\u001b[0m \u001b[0mplt\u001b[0m\u001b[0;34m.\u001b[0m\u001b[0mfigure\u001b[0m\u001b[0;34m(\u001b[0m\u001b[0;34m)\u001b[0m\u001b[0;34m\u001b[0m\u001b[0m\n\u001b[1;32m      2\u001b[0m \u001b[0;31m#for i in range(len(wafers)):\u001b[0m\u001b[0;34m\u001b[0m\u001b[0;34m\u001b[0m\u001b[0m\n\u001b[0;32m----> 3\u001b[0;31m \u001b[0mcut\u001b[0m \u001b[0;34m=\u001b[0m \u001b[0mmeanBits\u001b[0m\u001b[0;34m>\u001b[0m\u001b[0;36m0\u001b[0m\u001b[0;34m\u001b[0m\u001b[0m\n\u001b[0m\u001b[1;32m      4\u001b[0m \u001b[0;31m#(meanBits<150) & (meanBits>100)\u001b[0m\u001b[0;34m\u001b[0m\u001b[0;34m\u001b[0m\u001b[0m\n\u001b[1;32m      5\u001b[0m \u001b[0;34m\u001b[0m\u001b[0m\n",
      "\u001b[0;31mNameError\u001b[0m: name 'meanBits' is not defined"
     ]
    },
    {
     "data": {
      "text/plain": [
       "<Figure size 432x288 with 0 Axes>"
      ]
     },
     "metadata": {},
     "output_type": "display_data"
    }
   ],
   "source": [
    "plt.figure()\n",
    "#for i in range(len(wafers)):\n",
    "cut = meanBits>0\n",
    "#(meanBits<150) & (meanBits>100)\n",
    "\n",
    "\n",
    "WaferList = wafers[cut]\n",
    "maxLatency = np.array([[latencyTracker[j][k].max() for k in keys] for j in range(nJobs)])\n",
    "maxLatency = awkward.fromiter(maxLatency.transpose()).max()[cut]\n",
    "#maxLatency = np.array([latencyTracker[k].max() for k in keys])[:,cut]\n",
    "#meanBitsCut = meanBits[cut]\n",
    "#colorSchemeCut = colorScheme[cut]\n",
    "\n",
    "plt.figure()\n",
    "colorBin = np.digitize(meanBits,bins=np.linspace(0,256,9))\n",
    "colorScheme = np.array([colorConvert[x] for x in colorBin])\n",
    "for i, Wafer in enumerate(WaferList):\n",
    "    Wafer  = wafers[i]\n",
    "    \n",
    "    y = maxLatency[i]\n",
    "    x = keys - np.round(meanBits[i]/32 + .5)\n",
    "#    x = keys - (meanBitsCut[i]/32)\n",
    "#    x = (keys*32 - meanBitsCut[i])/(meanBitsCut[i])*100 \n",
    "    y[y>20]=20\n",
    "    plt.scatter(x,y,c=colorScheme[i])\n",
    "plt.xlabel('# of links above Minimum Need')\n",
    "#plt.xlabel('Percent above Average')\n",
    "plt.ylabel('Max latency')\n",
    "plt.axis([-2,5,-1,22])\n",
    "\n",
    "plt.legend(handles=[patch6,patch5,patch4,patch3,patch2,patch1])\n",
    "plt.savefig(outputName,format='pdf')\n",
    "\n",
    "\n",
    "\n",
    "plt.figure()\n",
    "colorBin = np.digitize(1.3*meanBits,bins=np.linspace(0,256,9))\n",
    "colorScheme = np.array([colorConvert[x] for x in colorBin])\n",
    "for i, Wafer in enumerate(WaferList):\n",
    "    Wafer  = wafers[i]\n",
    "    \n",
    "    y = maxLatency[i]\n",
    "    x = keys - np.round(1.3*meanBits[i]/32 + .5)\n",
    "    y[y>20]=20\n",
    "    plt.scatter(x,y,c=colorScheme[i])\n",
    "plt.xlabel('# of links above Nominal (Minimum Data Plus 30%)')\n",
    "plt.ylabel('Max latency')\n",
    "plt.axis([-2,5,-1,22])\n",
    "\n",
    "plt.legend(handles=[patch6,patch5,patch4,patch3,patch2,patch1])\n",
    "plt.savefig(outputName.replace('LinksAboveMin','LinksAboveMinPlus30'),format='pdf')\n",
    "\n",
    "plt.figure()\n",
    "colorBin = np.digitize(meanBits,bins=np.linspace(0,256,9))\n",
    "colorScheme = np.array([colorConvert[x] for x in colorBin])\n",
    "for i, Wafer in enumerate(WaferList):\n",
    "    Wafer  = wafers[i]\n",
    "    \n",
    "    y = maxLatency[i]\n",
    "    x = keys - meanBits[i]/32\n",
    "    y[y>20]=20\n",
    "    plt.scatter(x,y,c=colorScheme[i])\n",
    "plt.xlabel('# of links above Average')\n",
    "plt.ylabel('Max latency')\n",
    "plt.axis([-2,5,-1,22])\n",
    "\n",
    "plt.legend(handles=[patch6,patch5,patch4,patch3,patch2,patch1])\n",
    "plt.savefig(outputName.replace('LinksAboveMin','LinksAboveAverage'),format='pdf')\n",
    "\n",
    "\n",
    "\n",
    "\n",
    "plt.figure()\n",
    "colorBin = np.digitize(meanBits,bins=np.linspace(0,256,9))\n",
    "colorScheme = np.array([colorConvert[x] for x in colorBin])\n",
    "for i, Wafer in enumerate(WaferList):\n",
    "    Wafer  = wafers[i]\n",
    "    y = maxLatency[i]\n",
    "    x = (keys*32 - meanBits[i])/(meanBits[i])*100 \n",
    "    y[y>20]=20\n",
    "    plt.scatter(x,y,c=colorScheme[i])\n",
    "plt.xlabel('Percent above Average')\n",
    "plt.ylabel('Max latency')\n",
    "plt.axis([-20,150,0,22])\n",
    "plt.plot([30,30],[0,20]);\n",
    "\n",
    "plt.legend(handles=[patch6,patch5,patch4,patch3,patch2,patch1])\n",
    "\n",
    "plt.savefig(outputName.replace('LinksAboveMin','PercentAboveAverage'),format='pdf')"
   ]
  },
  {
   "cell_type": "code",
   "execution_count": null,
   "metadata": {},
   "outputs": [],
   "source": []
  },
  {
   "cell_type": "code",
   "execution_count": 41,
   "metadata": {},
   "outputs": [
    {
     "data": {
      "text/plain": [
       "array([1, 1, 1, 1, 1, 1, 1, 1, 1, 1, 1, 1, 1, 1, 1, 1, 1, 1, 1, 1, 1, 1,\n",
       "       1, 1, 1, 1, 1, 1, 1, 1, 1, 1, 1, 1, 1, 1, 1, 1, 1, 1, 1, 1, 1, 1,\n",
       "       1, 1, 1, 1, 1, 1, 1, 1, 1, 1, 1, 1, 1, 1, 1, 1, 1, 1, 1, 1, 1, 1,\n",
       "       1, 1, 1, 1, 1, 1, 1])"
      ]
     },
     "execution_count": 41,
     "metadata": {},
     "output_type": "execute_result"
    }
   ],
   "source": [
    "colorBin"
   ]
  },
  {
   "cell_type": "code",
   "execution_count": 40,
   "metadata": {},
   "outputs": [
    {
     "name": "stdout",
     "output_type": "stream",
     "text": [
      "4 1 [9] 0.8560053819444444 0.49170555555555556\n",
      "5 2 [9] 0.8489998263888889 0.4744611111111111\n"
     ]
    },
    {
     "data": {
      "image/png": "[encoded data removed]",
      "text/plain": [
       "<Figure size 432x288 with 1 Axes>"
      ]
     },
     "metadata": {
      "needs_background": "light"
     },
     "output_type": "display_data"
    }
   ],
   "source": [
    "colorBin = np.digitize(meanBits,bins=np.linspace(0,256,9))\n",
    "colorScheme = np.array([colorConvert[x] for x in colorBin])\n",
    "for i, Wafer in enumerate(WaferList):\n",
    "    Wafer  = wafers[i]\n",
    "    \n",
    "    y = maxLatency[i]\n",
    "    x = keys - np.round(meanBits[i]/32 + .5)\n",
    "    y[y>20]=20\n",
    "    plt.scatter(x,y,c=colorScheme[i])\n",
    "    if colorBin[i]==1:\n",
    "        if y[x==0]==9:\n",
    "            print (Wafer,i,y[x==0],meanBits[i]/32,meanOcc[i])"
   ]
  },
  {
   "cell_type": "code",
   "execution_count": null,
   "metadata": {},
   "outputs": [],
   "source": []
  },
  {
   "cell_type": "code",
   "execution_count": null,
   "metadata": {},
   "outputs": [],
   "source": []
  },
  {
   "cell_type": "code",
   "execution_count": null,
   "metadata": {},
   "outputs": [],
   "source": []
  },
  {
   "cell_type": "code",
   "execution_count": 16,
   "metadata": {},
   "outputs": [
    {
     "data": {
      "image/png": "[encoded data removed]",
      "text/plain": [
       "<Figure size 432x288 with 1 Axes>"
      ]
     },
     "metadata": {
      "needs_background": "light"
     },
     "output_type": "display_data"
    }
   ],
   "source": [
    "cut = meanBits>0\n",
    "#(meanBits<150) & (meanBits>100)\n",
    "\n",
    "\n",
    "WaferList = wafers[cut]\n",
    "maxLatency = np.array([[latencyTracker[j][k].max() for k in keys] for j in range(nJobs)])\n",
    "maxLatency = awkward.fromiter(maxLatency.transpose()).max()[cut]\n",
    "\n",
    "plt.figure()\n",
    "colorBin = np.digitize(meanBits,bins=np.linspace(0,256,9))\n",
    "colorScheme = np.array([colorConvert[x] for x in colorBin])\n",
    "for i, Wafer in enumerate(WaferList):\n",
    "    if not i==22: continue\n",
    "    Wafer  = wafers[i]\n",
    "    \n",
    "    y = maxLatency[i]\n",
    "    x = keys - np.round(1.3*meanBits[i]/32 + .5)\n",
    "    y[y>20]=20\n",
    "    plt.scatter(x,y,c=colorScheme[i])\n",
    "plt.xlabel('# of links above Nominal')\n",
    "plt.ylabel('Max latency')\n",
    "plt.axis([-3,5,-1,22])\n",
    "\n",
    "plt.legend(handles=[patch6,patch5,patch4,patch3,patch2,patch1])\n",
    "plt.savefig(\"ExampleMaxOccup.pdf\",format='pdf')"
   ]
  },
  {
   "cell_type": "code",
   "execution_count": 18,
   "metadata": {},
   "outputs": [
    {
     "data": {
      "text/plain": [
       "3.5925555555555557"
      ]
     },
     "execution_count": 18,
     "metadata": {},
     "output_type": "execute_result"
    }
   ],
   "source": [
    "meanOcc[22]"
   ]
  },
  {
   "cell_type": "code",
   "execution_count": 20,
   "metadata": {},
   "outputs": [
    {
     "data": {
      "text/plain": [
       "67.70322222222222"
      ]
     },
     "execution_count": 20,
     "metadata": {},
     "output_type": "execute_result"
    }
   ],
   "source": [
    "meanBits[22]"
   ]
  },
  {
   "cell_type": "code",
   "execution_count": 38,
   "metadata": {},
   "outputs": [
    {
     "data": {
      "image/png": "[encoded data removed]",
      "text/plain": [
       "<Figure size 432x288 with 1 Axes>"
      ]
     },
     "metadata": {
      "needs_background": "light"
     },
     "output_type": "display_data"
    },
    {
     "data": {
      "image/png": "[encoded data removed]",
      "text/plain": [
       "<Figure size 432x288 with 1 Axes>"
      ]
     },
     "metadata": {
      "needs_background": "light"
     },
     "output_type": "display_data"
    },
    {
     "data": {
      "image/png": "[encoded data removed]",
      "text/plain": [
       "<Figure size 432x288 with 1 Axes>"
      ]
     },
     "metadata": {
      "needs_background": "light"
     },
     "output_type": "display_data"
    }
   ],
   "source": [
    "plt.figure()\n",
    "plt.hist(np.array([latencyTracker[i][2.5][22] for i in range(nJobs)]).flatten(),bins=np.linspace(-0.5,9.5,11));\n",
    "plt.yscale('log')\n",
    "plt.title('2.5 eLinks')\n",
    "plt.savefig(\"ExampleOccup_2p5.pdf\",format='pdf')\n",
    "\n",
    "\n",
    "plt.figure()\n",
    "plt.hist(np.array([latencyTracker[i][3][22] for i in range(nJobs)]).flatten(),bins=np.linspace(-0.5,9.5,11));\n",
    "plt.yscale('log')\n",
    "plt.title('3 eLinks')\n",
    "plt.savefig(\"ExampleOccup_3.pdf\",format='pdf')\n",
    "\n",
    "plt.figure()\n",
    "plt.hist(np.array([latencyTracker[i][6][22] for i in range(nJobs)]).flatten(),bins=np.linspace(-0.5,9.5,11));\n",
    "plt.yscale('log')\n",
    "plt.title('6 eLinks')\n",
    "plt.savefig(\"ExampleOccup_6.pdf\",format='pdf')"
   ]
  },
  {
   "cell_type": "code",
   "execution_count": 49,
   "metadata": {},
   "outputs": [
    {
     "data": {
      "image/png": "[encoded data removed]",
      "text/plain": [
       "<Figure size 432x288 with 1 Axes>"
      ]
     },
     "metadata": {
      "needs_background": "light"
     },
     "output_type": "display_data"
    }
   ],
   "source": [
    "plt.plot(range(300),latencyTracker[0][2.5][22][:300])\n",
    "plt.xlabel('BX')\n",
    "plt.ylabel('Latency')\n",
    "plt.title('Example Latency (2.5 eLinks)')\n",
    "plt.savefig(\"ExampleLatency.pdf\",format='pdf')"
   ]
  },
  {
   "cell_type": "code",
   "execution_count": null,
   "metadata": {},
   "outputs": [],
   "source": []
  }
 ],
 "metadata": {
  "kernelspec": {
   "display_name": "Python 3",
   "language": "python",
   "name": "python3"
  },
  "language_info": {
   "codemirror_mode": {
    "name": "ipython",
    "version": 3
   },
   "file_extension": ".py",
   "mimetype": "text/x-python",
   "name": "python",
   "nbconvert_exporter": "python",
   "pygments_lexer": "ipython3",
   "version": "3.6.4"
  }
 },
 "nbformat": 4,
 "nbformat_minor": 2
}
